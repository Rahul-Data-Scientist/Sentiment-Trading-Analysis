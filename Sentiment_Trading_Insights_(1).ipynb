{
 "cells": [
  {
   "cell_type": "code",
   "execution_count": 113,
   "id": "1b9c27e6-3e9a-49dc-bce8-1cf6ef4a9176",
   "metadata": {},
   "outputs": [],
   "source": [
    "import numpy as np\n",
    "import pandas as pd\n",
    "import matplotlib.pyplot as plt\n",
    "import seaborn as sns"
   ]
  },
  {
   "cell_type": "code",
   "execution_count": 64,
   "id": "6338dd6a-c22e-4659-a0fc-f8b96660c813",
   "metadata": {},
   "outputs": [],
   "source": [
    "historical_df = pd.read_csv(\"historical_data.csv\")\n",
    "sentiment_df = pd.read_csv(\"fear_greed_index.csv\")"
   ]
  },
  {
   "cell_type": "code",
   "execution_count": 65,
   "id": "0a3ec4aa-be43-4d29-9f27-fbe9847e6286",
   "metadata": {},
   "outputs": [
    {
     "name": "stdout",
     "output_type": "stream",
     "text": [
      "(211224, 16)\n",
      "(2644, 4)\n"
     ]
    }
   ],
   "source": [
    "print(historical_df.shape)\n",
    "print(sentiment_df.shape)"
   ]
  },
  {
   "cell_type": "code",
   "execution_count": 66,
   "id": "13c39133-c01c-4125-a67c-eb980bbf82db",
   "metadata": {},
   "outputs": [
    {
     "name": "stdout",
     "output_type": "stream",
     "text": [
      "0\n",
      "0\n"
     ]
    }
   ],
   "source": [
    "print(historical_df.duplicated().sum())\n",
    "print(sentiment_df.duplicated().sum())"
   ]
  },
  {
   "cell_type": "code",
   "execution_count": 67,
   "id": "bdfe1783-36cc-4616-a691-5f022dd5a261",
   "metadata": {
    "scrolled": true
   },
   "outputs": [
    {
     "name": "stdout",
     "output_type": "stream",
     "text": [
      "Account             0\n",
      "Coin                0\n",
      "Execution Price     0\n",
      "Size Tokens         0\n",
      "Size USD            0\n",
      "Side                0\n",
      "Timestamp IST       0\n",
      "Start Position      0\n",
      "Direction           0\n",
      "Closed PnL          0\n",
      "Transaction Hash    0\n",
      "Order ID            0\n",
      "Crossed             0\n",
      "Fee                 0\n",
      "Trade ID            0\n",
      "Timestamp           0\n",
      "dtype: int64\n"
     ]
    }
   ],
   "source": [
    "print(historical_df.isnull().sum())"
   ]
  },
  {
   "cell_type": "code",
   "execution_count": 68,
   "id": "01f7a930-1332-4c94-8a4a-8766c34f4047",
   "metadata": {},
   "outputs": [
    {
     "name": "stdout",
     "output_type": "stream",
     "text": [
      "timestamp         0\n",
      "value             0\n",
      "classification    0\n",
      "date              0\n",
      "dtype: int64\n"
     ]
    }
   ],
   "source": [
    "print(sentiment_df.isnull().sum())"
   ]
  },
  {
   "cell_type": "code",
   "execution_count": 69,
   "id": "9d5387aa-6be1-4bc9-98b7-317e432ab19a",
   "metadata": {},
   "outputs": [
    {
     "name": "stdout",
     "output_type": "stream",
     "text": [
      "<class 'pandas.core.frame.DataFrame'>\n",
      "RangeIndex: 211224 entries, 0 to 211223\n",
      "Data columns (total 16 columns):\n",
      " #   Column            Non-Null Count   Dtype  \n",
      "---  ------            --------------   -----  \n",
      " 0   Account           211224 non-null  object \n",
      " 1   Coin              211224 non-null  object \n",
      " 2   Execution Price   211224 non-null  float64\n",
      " 3   Size Tokens       211224 non-null  float64\n",
      " 4   Size USD          211224 non-null  float64\n",
      " 5   Side              211224 non-null  object \n",
      " 6   Timestamp IST     211224 non-null  object \n",
      " 7   Start Position    211224 non-null  float64\n",
      " 8   Direction         211224 non-null  object \n",
      " 9   Closed PnL        211224 non-null  float64\n",
      " 10  Transaction Hash  211224 non-null  object \n",
      " 11  Order ID          211224 non-null  int64  \n",
      " 12  Crossed           211224 non-null  bool   \n",
      " 13  Fee               211224 non-null  float64\n",
      " 14  Trade ID          211224 non-null  float64\n",
      " 15  Timestamp         211224 non-null  float64\n",
      "dtypes: bool(1), float64(8), int64(1), object(6)\n",
      "memory usage: 24.4+ MB\n"
     ]
    }
   ],
   "source": [
    "historical_df.info()"
   ]
  },
  {
   "cell_type": "code",
   "execution_count": 70,
   "id": "8f6ffc23-65fd-4050-b11f-5ef1217db940",
   "metadata": {},
   "outputs": [
    {
     "data": {
      "text/plain": [
       "Account                    0xae5eacaf9c6b9111fd53034a602c192a04e082ed\n",
       "Coin                                                             @107\n",
       "Execution Price                                                7.9769\n",
       "Size Tokens                                                    986.87\n",
       "Size USD                                                      7872.16\n",
       "Side                                                              BUY\n",
       "Timestamp IST                                        02-12-2024 22:50\n",
       "Start Position                                                    0.0\n",
       "Direction                                                         Buy\n",
       "Closed PnL                                                        0.0\n",
       "Transaction Hash    0xec09451986a1874e3a980418412fcd0201f500c95bac...\n",
       "Order ID                                                  52017706630\n",
       "Crossed                                                          True\n",
       "Fee                                                          0.345404\n",
       "Trade ID                                            895000000000000.0\n",
       "Timestamp                                             1730000000000.0\n",
       "Name: 0, dtype: object"
      ]
     },
     "execution_count": 70,
     "metadata": {},
     "output_type": "execute_result"
    }
   ],
   "source": [
    "historical_df.iloc[0]"
   ]
  },
  {
   "cell_type": "code",
   "execution_count": 71,
   "id": "128121f2-c1ef-4a3d-ad85-9bc391b7c136",
   "metadata": {},
   "outputs": [
    {
     "data": {
      "text/html": [
       "<div>\n",
       "<style scoped>\n",
       "    .dataframe tbody tr th:only-of-type {\n",
       "        vertical-align: middle;\n",
       "    }\n",
       "\n",
       "    .dataframe tbody tr th {\n",
       "        vertical-align: top;\n",
       "    }\n",
       "\n",
       "    .dataframe thead th {\n",
       "        text-align: right;\n",
       "    }\n",
       "</style>\n",
       "<table border=\"1\" class=\"dataframe\">\n",
       "  <thead>\n",
       "    <tr style=\"text-align: right;\">\n",
       "      <th></th>\n",
       "      <th>Side</th>\n",
       "      <th>Direction</th>\n",
       "      <th>0</th>\n",
       "    </tr>\n",
       "  </thead>\n",
       "  <tbody>\n",
       "    <tr>\n",
       "      <th>0</th>\n",
       "      <td>BUY</td>\n",
       "      <td>Buy</td>\n",
       "      <td>16716</td>\n",
       "    </tr>\n",
       "    <tr>\n",
       "      <th>1</th>\n",
       "      <td>BUY</td>\n",
       "      <td>Close Short</td>\n",
       "      <td>36013</td>\n",
       "    </tr>\n",
       "    <tr>\n",
       "      <th>2</th>\n",
       "      <td>BUY</td>\n",
       "      <td>Liquidated Isolated Short</td>\n",
       "      <td>1</td>\n",
       "    </tr>\n",
       "    <tr>\n",
       "      <th>3</th>\n",
       "      <td>BUY</td>\n",
       "      <td>Open Long</td>\n",
       "      <td>49895</td>\n",
       "    </tr>\n",
       "    <tr>\n",
       "      <th>4</th>\n",
       "      <td>BUY</td>\n",
       "      <td>Settlement</td>\n",
       "      <td>1</td>\n",
       "    </tr>\n",
       "    <tr>\n",
       "      <th>5</th>\n",
       "      <td>BUY</td>\n",
       "      <td>Short &gt; Long</td>\n",
       "      <td>70</td>\n",
       "    </tr>\n",
       "    <tr>\n",
       "      <th>6</th>\n",
       "      <td>SELL</td>\n",
       "      <td>Auto-Deleveraging</td>\n",
       "      <td>8</td>\n",
       "    </tr>\n",
       "    <tr>\n",
       "      <th>7</th>\n",
       "      <td>SELL</td>\n",
       "      <td>Close Long</td>\n",
       "      <td>48678</td>\n",
       "    </tr>\n",
       "    <tr>\n",
       "      <th>8</th>\n",
       "      <td>SELL</td>\n",
       "      <td>Long &gt; Short</td>\n",
       "      <td>57</td>\n",
       "    </tr>\n",
       "    <tr>\n",
       "      <th>9</th>\n",
       "      <td>SELL</td>\n",
       "      <td>Open Short</td>\n",
       "      <td>39741</td>\n",
       "    </tr>\n",
       "    <tr>\n",
       "      <th>10</th>\n",
       "      <td>SELL</td>\n",
       "      <td>Sell</td>\n",
       "      <td>19902</td>\n",
       "    </tr>\n",
       "    <tr>\n",
       "      <th>11</th>\n",
       "      <td>SELL</td>\n",
       "      <td>Spot Dust Conversion</td>\n",
       "      <td>142</td>\n",
       "    </tr>\n",
       "  </tbody>\n",
       "</table>\n",
       "</div>"
      ],
      "text/plain": [
       "    Side                  Direction      0\n",
       "0    BUY                        Buy  16716\n",
       "1    BUY                Close Short  36013\n",
       "2    BUY  Liquidated Isolated Short      1\n",
       "3    BUY                  Open Long  49895\n",
       "4    BUY                 Settlement      1\n",
       "5    BUY               Short > Long     70\n",
       "6   SELL          Auto-Deleveraging      8\n",
       "7   SELL                 Close Long  48678\n",
       "8   SELL               Long > Short     57\n",
       "9   SELL                 Open Short  39741\n",
       "10  SELL                       Sell  19902\n",
       "11  SELL       Spot Dust Conversion    142"
      ]
     },
     "execution_count": 71,
     "metadata": {},
     "output_type": "execute_result"
    }
   ],
   "source": [
    "historical_df.groupby(['Side', 'Direction']).size().reset_index()"
   ]
  },
  {
   "cell_type": "code",
   "execution_count": 72,
   "id": "99a4225f-76bf-4180-af1e-e4796a7ff505",
   "metadata": {
    "scrolled": true
   },
   "outputs": [
    {
     "data": {
      "text/plain": [
       "array([1.73e+12, 1.74e+12, 1.75e+12, 1.71e+12, 1.72e+12, 1.70e+12,\n",
       "       1.68e+12])"
      ]
     },
     "execution_count": 72,
     "metadata": {},
     "output_type": "execute_result"
    }
   ],
   "source": [
    "historical_df['Timestamp'].unique()"
   ]
  },
  {
   "cell_type": "code",
   "execution_count": 73,
   "id": "89d97f4e-8c65-4d9c-967b-781e5615027c",
   "metadata": {},
   "outputs": [],
   "source": [
    "historical_df['Timestamp IST'] = pd.to_datetime(historical_df['Timestamp IST'], dayfirst=True)"
   ]
  },
  {
   "cell_type": "code",
   "execution_count": 74,
   "id": "2287e575-69e1-4109-a5aa-337c601f1b00",
   "metadata": {},
   "outputs": [],
   "source": [
    "historical_df['date'] = historical_df['Timestamp IST'].dt.date.astype(str)"
   ]
  },
  {
   "cell_type": "code",
   "execution_count": 75,
   "id": "2194d6e3-de6f-4c36-b175-d01944545fa4",
   "metadata": {},
   "outputs": [
    {
     "data": {
      "text/plain": [
       "0         2024-12-02\n",
       "1         2024-12-02\n",
       "2         2024-12-02\n",
       "3         2024-12-02\n",
       "4         2024-12-02\n",
       "             ...    \n",
       "211219    2025-04-25\n",
       "211220    2025-04-25\n",
       "211221    2025-04-25\n",
       "211222    2025-04-25\n",
       "211223    2025-04-25\n",
       "Name: date, Length: 211224, dtype: object"
      ]
     },
     "execution_count": 75,
     "metadata": {},
     "output_type": "execute_result"
    }
   ],
   "source": [
    "historical_df['date']"
   ]
  },
  {
   "cell_type": "code",
   "execution_count": 76,
   "id": "b71ee0f4-090e-40ed-9352-605224e2f486",
   "metadata": {},
   "outputs": [
    {
     "data": {
      "text/plain": [
       "timestamp         1517463000\n",
       "value                     30\n",
       "classification          Fear\n",
       "date              2018-02-01\n",
       "Name: 0, dtype: object"
      ]
     },
     "execution_count": 76,
     "metadata": {},
     "output_type": "execute_result"
    }
   ],
   "source": [
    "sentiment_df.iloc[0]"
   ]
  },
  {
   "cell_type": "code",
   "execution_count": 77,
   "id": "b6e4b899-5ccd-420e-88ac-8b2b920dbc25",
   "metadata": {},
   "outputs": [
    {
     "data": {
      "text/html": [
       "<div>\n",
       "<style scoped>\n",
       "    .dataframe tbody tr th:only-of-type {\n",
       "        vertical-align: middle;\n",
       "    }\n",
       "\n",
       "    .dataframe tbody tr th {\n",
       "        vertical-align: top;\n",
       "    }\n",
       "\n",
       "    .dataframe thead tr th {\n",
       "        text-align: left;\n",
       "    }\n",
       "\n",
       "    .dataframe thead tr:last-of-type th {\n",
       "        text-align: right;\n",
       "    }\n",
       "</style>\n",
       "<table border=\"1\" class=\"dataframe\">\n",
       "  <thead>\n",
       "    <tr>\n",
       "      <th></th>\n",
       "      <th colspan=\"2\" halign=\"left\">value</th>\n",
       "    </tr>\n",
       "    <tr>\n",
       "      <th></th>\n",
       "      <th>min</th>\n",
       "      <th>max</th>\n",
       "    </tr>\n",
       "    <tr>\n",
       "      <th>classification</th>\n",
       "      <th></th>\n",
       "      <th></th>\n",
       "    </tr>\n",
       "  </thead>\n",
       "  <tbody>\n",
       "    <tr>\n",
       "      <th>Extreme Fear</th>\n",
       "      <td>5</td>\n",
       "      <td>24</td>\n",
       "    </tr>\n",
       "    <tr>\n",
       "      <th>Extreme Greed</th>\n",
       "      <td>75</td>\n",
       "      <td>95</td>\n",
       "    </tr>\n",
       "    <tr>\n",
       "      <th>Fear</th>\n",
       "      <td>25</td>\n",
       "      <td>44</td>\n",
       "    </tr>\n",
       "    <tr>\n",
       "      <th>Greed</th>\n",
       "      <td>55</td>\n",
       "      <td>74</td>\n",
       "    </tr>\n",
       "    <tr>\n",
       "      <th>Neutral</th>\n",
       "      <td>45</td>\n",
       "      <td>54</td>\n",
       "    </tr>\n",
       "  </tbody>\n",
       "</table>\n",
       "</div>"
      ],
      "text/plain": [
       "               value    \n",
       "                 min max\n",
       "classification          \n",
       "Extreme Fear       5  24\n",
       "Extreme Greed     75  95\n",
       "Fear              25  44\n",
       "Greed             55  74\n",
       "Neutral           45  54"
      ]
     },
     "execution_count": 77,
     "metadata": {},
     "output_type": "execute_result"
    }
   ],
   "source": [
    "sentiment_df.groupby('classification').agg({\n",
    "    'value' : ['min', 'max']\n",
    "})"
   ]
  },
  {
   "cell_type": "code",
   "execution_count": 78,
   "id": "117ba89a-bffa-4d3d-89a2-f77ecbca3a6e",
   "metadata": {},
   "outputs": [],
   "source": [
    "merged_df = historical_df.merge(sentiment_df[['date', 'value', 'classification']], on='date', how='left')"
   ]
  },
  {
   "cell_type": "code",
   "execution_count": 79,
   "id": "df83a191-da57-4a91-a799-334b6bda18c2",
   "metadata": {},
   "outputs": [],
   "source": [
    "# Finding Average PnL across Sentiment Bins"
   ]
  },
  {
   "cell_type": "code",
   "execution_count": 80,
   "id": "c277d725-1ff1-4c60-b822-2bd14074d71a",
   "metadata": {},
   "outputs": [
    {
     "data": {
      "text/html": [
       "<div>\n",
       "<style scoped>\n",
       "    .dataframe tbody tr th:only-of-type {\n",
       "        vertical-align: middle;\n",
       "    }\n",
       "\n",
       "    .dataframe tbody tr th {\n",
       "        vertical-align: top;\n",
       "    }\n",
       "\n",
       "    .dataframe thead th {\n",
       "        text-align: right;\n",
       "    }\n",
       "</style>\n",
       "<table border=\"1\" class=\"dataframe\">\n",
       "  <thead>\n",
       "    <tr style=\"text-align: right;\">\n",
       "      <th></th>\n",
       "      <th>mean</th>\n",
       "      <th>std</th>\n",
       "      <th>count</th>\n",
       "    </tr>\n",
       "    <tr>\n",
       "      <th>classification</th>\n",
       "      <th></th>\n",
       "      <th></th>\n",
       "      <th></th>\n",
       "    </tr>\n",
       "  </thead>\n",
       "  <tbody>\n",
       "    <tr>\n",
       "      <th>Extreme Fear</th>\n",
       "      <td>34.537862</td>\n",
       "      <td>1136.056091</td>\n",
       "      <td>21400</td>\n",
       "    </tr>\n",
       "    <tr>\n",
       "      <th>Extreme Greed</th>\n",
       "      <td>67.892861</td>\n",
       "      <td>766.828294</td>\n",
       "      <td>39992</td>\n",
       "    </tr>\n",
       "    <tr>\n",
       "      <th>Fear</th>\n",
       "      <td>54.290400</td>\n",
       "      <td>935.355438</td>\n",
       "      <td>61837</td>\n",
       "    </tr>\n",
       "    <tr>\n",
       "      <th>Greed</th>\n",
       "      <td>42.743559</td>\n",
       "      <td>1116.028390</td>\n",
       "      <td>50303</td>\n",
       "    </tr>\n",
       "    <tr>\n",
       "      <th>Neutral</th>\n",
       "      <td>34.307718</td>\n",
       "      <td>517.122220</td>\n",
       "      <td>37686</td>\n",
       "    </tr>\n",
       "  </tbody>\n",
       "</table>\n",
       "</div>"
      ],
      "text/plain": [
       "                     mean          std  count\n",
       "classification                               \n",
       "Extreme Fear    34.537862  1136.056091  21400\n",
       "Extreme Greed   67.892861   766.828294  39992\n",
       "Fear            54.290400   935.355438  61837\n",
       "Greed           42.743559  1116.028390  50303\n",
       "Neutral         34.307718   517.122220  37686"
      ]
     },
     "execution_count": 80,
     "metadata": {},
     "output_type": "execute_result"
    }
   ],
   "source": [
    "merged_df.groupby('classification')['Closed PnL'].agg(['mean', 'std', 'count'])"
   ]
  },
  {
   "cell_type": "markdown",
   "id": "13200015-8200-40d8-abd4-a91d716f89e8",
   "metadata": {},
   "source": [
    "### Insights\n",
    "- Extreme Greed yields the highest average PnL with lower volatility than Fear/Greed → traders may use higher leverage or momentum strategies.\n",
    "- Extreme Fear results in low average PnL and high volatility → indicating panic, irrational trades, or stop-losses being hit.\n",
    "- Fear surprisingly performs better than Greed, suggesting cautious traders outperform overconfident ones during moderate dips.\n",
    "- Neutral markets result in flat returns, as expected, due to low directional bias and fewer high-conviction trades."
   ]
  },
  {
   "cell_type": "code",
   "execution_count": 81,
   "id": "697f4cbd-7a4f-4128-b56d-41ebd6ab8d0e",
   "metadata": {},
   "outputs": [],
   "source": [
    "# Volume Trends During Sentiment Extremes"
   ]
  },
  {
   "cell_type": "code",
   "execution_count": 109,
   "id": "ec76d710-5a37-4f54-ae27-976024563b6a",
   "metadata": {},
   "outputs": [
    {
     "data": {
      "image/png": "[encoded data removed]",
      "text/plain": [
       "<Figure size 640x480 with 1 Axes>"
      ]
     },
     "metadata": {},
     "output_type": "display_data"
    }
   ],
   "source": [
    "merged_df.groupby('classification')['Size USD'].sum().sort_values(ascending=False).plot(kind='bar')\n",
    "plt.xlabel(\"Sentiments\")\n",
    "plt.ylabel(\"Size USD\")\n",
    "plt.title(\"Volume Trends During Sentiment Extremes\")\n",
    "plt.show()"
   ]
  },
  {
   "cell_type": "markdown",
   "id": "567b1796-188f-469d-aeac-b58b681fd9f8",
   "metadata": {},
   "source": [
    "### Insights\n",
    "- The most trading activity happens during Fear, suggesting that traders are actively trying to buy the dip or hedge risk.\n",
    "- Despite Extreme Greed yielding the highest PnL, it has relatively lower volume, possibly because:\n",
    "    - Fewer traders take positions\n",
    "    - Those who do may use high leverage or larger individual positions\n",
    "- Extreme Fear shows low volume and low PnL, consistent with market paralysis — traders are risk-averse or sidelined."
   ]
  },
  {
   "cell_type": "code",
   "execution_count": 83,
   "id": "3a47a4a8-2d46-4849-8707-180366b16489",
   "metadata": {},
   "outputs": [],
   "source": [
    "# Correlation Between Sentiment Value and Avg PnL (Daily)"
   ]
  },
  {
   "cell_type": "code",
   "execution_count": 84,
   "id": "876ecf9c-bea4-4e76-9e30-f8892d5fa2c6",
   "metadata": {},
   "outputs": [
    {
     "data": {
      "text/html": [
       "<div>\n",
       "<style scoped>\n",
       "    .dataframe tbody tr th:only-of-type {\n",
       "        vertical-align: middle;\n",
       "    }\n",
       "\n",
       "    .dataframe tbody tr th {\n",
       "        vertical-align: top;\n",
       "    }\n",
       "\n",
       "    .dataframe thead th {\n",
       "        text-align: right;\n",
       "    }\n",
       "</style>\n",
       "<table border=\"1\" class=\"dataframe\">\n",
       "  <thead>\n",
       "    <tr style=\"text-align: right;\">\n",
       "      <th></th>\n",
       "      <th>Closed PnL</th>\n",
       "      <th>value</th>\n",
       "    </tr>\n",
       "  </thead>\n",
       "  <tbody>\n",
       "    <tr>\n",
       "      <th>Closed PnL</th>\n",
       "      <td>1.000000</td>\n",
       "      <td>0.037315</td>\n",
       "    </tr>\n",
       "    <tr>\n",
       "      <th>value</th>\n",
       "      <td>0.037315</td>\n",
       "      <td>1.000000</td>\n",
       "    </tr>\n",
       "  </tbody>\n",
       "</table>\n",
       "</div>"
      ],
      "text/plain": [
       "            Closed PnL     value\n",
       "Closed PnL    1.000000  0.037315\n",
       "value         0.037315  1.000000"
      ]
     },
     "execution_count": 84,
     "metadata": {},
     "output_type": "execute_result"
    }
   ],
   "source": [
    "daily_avg = merged_df.groupby('date').agg({\n",
    "    'Closed PnL': 'mean',\n",
    "    'value': 'first'\n",
    "})\n",
    "daily_avg.corr()"
   ]
  },
  {
   "cell_type": "markdown",
   "id": "9ea27adc-9681-468d-be24-15996a3d02ea",
   "metadata": {},
   "source": [
    "### Insights\n",
    "- There is almost no linear correlation between the raw Fear-Greed value and average daily PnL.\n",
    "- This means daily sentiment value alone doesn’t predict average trade outcome linearly.\n",
    "- Other patterns (nonlinear, extreme thresholds, etc.) may matter more."
   ]
  },
  {
   "cell_type": "code",
   "execution_count": 85,
   "id": "cc576daf-9a1a-4c22-8b8b-1bf92316e1e8",
   "metadata": {},
   "outputs": [],
   "source": [
    "# Leverage (Position Size / PnL Ratio) Behavior by Sentiment"
   ]
  },
  {
   "cell_type": "code",
   "execution_count": 110,
   "id": "dda5c936-1128-47ce-986e-0795ec9fec44",
   "metadata": {},
   "outputs": [
    {
     "data": {
      "image/png": "[encoded data removed]",
      "text/plain": [
       "<Figure size 640x480 with 1 Axes>"
      ]
     },
     "metadata": {},
     "output_type": "display_data"
    }
   ],
   "source": [
    "merged_df['approx_leverage'] = merged_df['Size USD'] / (np.abs(merged_df['Start Position']) + 1)\n",
    "merged_df.groupby('classification')['approx_leverage'].mean().plot(kind = 'bar')\n",
    "plt.xlabel(\"Sentiments\")\n",
    "plt.ylabel(\"Approximate Leverage\")\n",
    "plt.title(\"Volume Trends During Sentiment Extremes\")\n",
    "plt.show()"
   ]
  },
  {
   "cell_type": "markdown",
   "id": "02d28396-63b4-4141-9ca7-1cb996304030",
   "metadata": {},
   "source": [
    "### Insights\n",
    "- Traders use more leverage during moderate Greed than during Extreme Greed. This could suggest:\n",
    "    - They book profits when the market is too hot (extreme greed)\n",
    "    - Or get margin-called/liquidated before reaching those levels\n",
    "- During Extreme Fear, leverage drops significantly:\n",
    "    - Consistent with risk aversion, defensive trading, or capital constraints"
   ]
  },
  {
   "cell_type": "code",
   "execution_count": 87,
   "id": "1eca8c9d-0aaf-4e83-b1fb-2bbd88670aec",
   "metadata": {},
   "outputs": [],
   "source": [
    "# PnL of Crossed (Market) vs Passive Orders During Sentiment Bins"
   ]
  },
  {
   "cell_type": "code",
   "execution_count": 88,
   "id": "b273b1dd-55e0-46b2-ad62-4c9c77a5a0ea",
   "metadata": {},
   "outputs": [
    {
     "data": {
      "text/html": [
       "<div>\n",
       "<style scoped>\n",
       "    .dataframe tbody tr th:only-of-type {\n",
       "        vertical-align: middle;\n",
       "    }\n",
       "\n",
       "    .dataframe tbody tr th {\n",
       "        vertical-align: top;\n",
       "    }\n",
       "\n",
       "    .dataframe thead th {\n",
       "        text-align: right;\n",
       "    }\n",
       "</style>\n",
       "<table border=\"1\" class=\"dataframe\">\n",
       "  <thead>\n",
       "    <tr style=\"text-align: right;\">\n",
       "      <th>Crossed</th>\n",
       "      <th>False</th>\n",
       "      <th>True</th>\n",
       "    </tr>\n",
       "    <tr>\n",
       "      <th>classification</th>\n",
       "      <th></th>\n",
       "      <th></th>\n",
       "    </tr>\n",
       "  </thead>\n",
       "  <tbody>\n",
       "    <tr>\n",
       "      <th>Extreme Fear</th>\n",
       "      <td>37.454281</td>\n",
       "      <td>32.310346</td>\n",
       "    </tr>\n",
       "    <tr>\n",
       "      <th>Extreme Greed</th>\n",
       "      <td>87.521185</td>\n",
       "      <td>55.975777</td>\n",
       "    </tr>\n",
       "    <tr>\n",
       "      <th>Fear</th>\n",
       "      <td>80.838937</td>\n",
       "      <td>36.656632</td>\n",
       "    </tr>\n",
       "    <tr>\n",
       "      <th>Greed</th>\n",
       "      <td>84.984286</td>\n",
       "      <td>16.241638</td>\n",
       "    </tr>\n",
       "    <tr>\n",
       "      <th>Neutral</th>\n",
       "      <td>25.551028</td>\n",
       "      <td>39.702777</td>\n",
       "    </tr>\n",
       "  </tbody>\n",
       "</table>\n",
       "</div>"
      ],
      "text/plain": [
       "Crossed             False      True \n",
       "classification                      \n",
       "Extreme Fear    37.454281  32.310346\n",
       "Extreme Greed   87.521185  55.975777\n",
       "Fear            80.838937  36.656632\n",
       "Greed           84.984286  16.241638\n",
       "Neutral         25.551028  39.702777"
      ]
     },
     "execution_count": 88,
     "metadata": {},
     "output_type": "execute_result"
    }
   ],
   "source": [
    "merged_df.groupby(['classification', 'Crossed'])['Closed PnL'].mean().unstack()"
   ]
  },
  {
   "cell_type": "markdown",
   "id": "ced8c8c4-f61d-4e9d-aea1-d0113435c509",
   "metadata": {},
   "source": [
    "### Insights\n",
    "- Limit orders outperform market orders in most sentiment conditions — showing disciplined entries yield better results.\n",
    "- Market orders underperform in Greed — likely due to impulsive FOMO-driven trades.\n",
    "- Fear and Extreme Greed favor limit orders — cautious or strategic execution pays off in volatile markets.\n",
    "- Only in Neutral markets do market orders win — fast execution helps when price action is slow or flat"
   ]
  },
  {
   "cell_type": "code",
   "execution_count": 89,
   "id": "4b01382a-9ee4-47e7-9efb-bb0f61c81600",
   "metadata": {},
   "outputs": [],
   "source": [
    "# Finding Trade Direction Count by Sentiment"
   ]
  },
  {
   "cell_type": "code",
   "execution_count": 90,
   "id": "7501d99f-219c-4db2-b549-b1f4b05e74f1",
   "metadata": {},
   "outputs": [
    {
     "data": {
      "text/html": [
       "<div>\n",
       "<style scoped>\n",
       "    .dataframe tbody tr th:only-of-type {\n",
       "        vertical-align: middle;\n",
       "    }\n",
       "\n",
       "    .dataframe tbody tr th {\n",
       "        vertical-align: top;\n",
       "    }\n",
       "\n",
       "    .dataframe thead th {\n",
       "        text-align: right;\n",
       "    }\n",
       "</style>\n",
       "<table border=\"1\" class=\"dataframe\">\n",
       "  <thead>\n",
       "    <tr style=\"text-align: right;\">\n",
       "      <th>Direction</th>\n",
       "      <th>Auto-Deleveraging</th>\n",
       "      <th>Buy</th>\n",
       "      <th>Close Long</th>\n",
       "      <th>Close Short</th>\n",
       "      <th>Liquidated Isolated Short</th>\n",
       "      <th>Long &gt; Short</th>\n",
       "      <th>Open Long</th>\n",
       "      <th>Open Short</th>\n",
       "      <th>Sell</th>\n",
       "      <th>Settlement</th>\n",
       "      <th>Short &gt; Long</th>\n",
       "      <th>Spot Dust Conversion</th>\n",
       "    </tr>\n",
       "    <tr>\n",
       "      <th>classification</th>\n",
       "      <th></th>\n",
       "      <th></th>\n",
       "      <th></th>\n",
       "      <th></th>\n",
       "      <th></th>\n",
       "      <th></th>\n",
       "      <th></th>\n",
       "      <th></th>\n",
       "      <th></th>\n",
       "      <th></th>\n",
       "      <th></th>\n",
       "      <th></th>\n",
       "    </tr>\n",
       "  </thead>\n",
       "  <tbody>\n",
       "    <tr>\n",
       "      <th>Extreme Fear</th>\n",
       "      <td>0</td>\n",
       "      <td>807</td>\n",
       "      <td>6241</td>\n",
       "      <td>3117</td>\n",
       "      <td>0</td>\n",
       "      <td>5</td>\n",
       "      <td>7005</td>\n",
       "      <td>3174</td>\n",
       "      <td>1042</td>\n",
       "      <td>0</td>\n",
       "      <td>6</td>\n",
       "      <td>3</td>\n",
       "    </tr>\n",
       "    <tr>\n",
       "      <th>Extreme Greed</th>\n",
       "      <td>0</td>\n",
       "      <td>5132</td>\n",
       "      <td>7186</td>\n",
       "      <td>6497</td>\n",
       "      <td>0</td>\n",
       "      <td>7</td>\n",
       "      <td>6300</td>\n",
       "      <td>7663</td>\n",
       "      <td>7164</td>\n",
       "      <td>0</td>\n",
       "      <td>11</td>\n",
       "      <td>32</td>\n",
       "    </tr>\n",
       "    <tr>\n",
       "      <th>Fear</th>\n",
       "      <td>0</td>\n",
       "      <td>3207</td>\n",
       "      <td>17260</td>\n",
       "      <td>9221</td>\n",
       "      <td>0</td>\n",
       "      <td>14</td>\n",
       "      <td>17824</td>\n",
       "      <td>10887</td>\n",
       "      <td>3364</td>\n",
       "      <td>0</td>\n",
       "      <td>18</td>\n",
       "      <td>42</td>\n",
       "    </tr>\n",
       "    <tr>\n",
       "      <th>Greed</th>\n",
       "      <td>8</td>\n",
       "      <td>4685</td>\n",
       "      <td>7998</td>\n",
       "      <td>11322</td>\n",
       "      <td>1</td>\n",
       "      <td>16</td>\n",
       "      <td>8544</td>\n",
       "      <td>11664</td>\n",
       "      <td>5986</td>\n",
       "      <td>1</td>\n",
       "      <td>23</td>\n",
       "      <td>55</td>\n",
       "    </tr>\n",
       "    <tr>\n",
       "      <th>Neutral</th>\n",
       "      <td>0</td>\n",
       "      <td>2885</td>\n",
       "      <td>9993</td>\n",
       "      <td>5850</td>\n",
       "      <td>0</td>\n",
       "      <td>15</td>\n",
       "      <td>10222</td>\n",
       "      <td>6353</td>\n",
       "      <td>2346</td>\n",
       "      <td>0</td>\n",
       "      <td>12</td>\n",
       "      <td>10</td>\n",
       "    </tr>\n",
       "  </tbody>\n",
       "</table>\n",
       "</div>"
      ],
      "text/plain": [
       "Direction       Auto-Deleveraging   Buy  Close Long  Close Short  \\\n",
       "classification                                                     \n",
       "Extreme Fear                    0   807        6241         3117   \n",
       "Extreme Greed                   0  5132        7186         6497   \n",
       "Fear                            0  3207       17260         9221   \n",
       "Greed                           8  4685        7998        11322   \n",
       "Neutral                         0  2885        9993         5850   \n",
       "\n",
       "Direction       Liquidated Isolated Short  Long > Short  Open Long  \\\n",
       "classification                                                       \n",
       "Extreme Fear                            0             5       7005   \n",
       "Extreme Greed                           0             7       6300   \n",
       "Fear                                    0            14      17824   \n",
       "Greed                                   1            16       8544   \n",
       "Neutral                                 0            15      10222   \n",
       "\n",
       "Direction       Open Short  Sell  Settlement  Short > Long  \\\n",
       "classification                                               \n",
       "Extreme Fear          3174  1042           0             6   \n",
       "Extreme Greed         7663  7164           0            11   \n",
       "Fear                 10887  3364           0            18   \n",
       "Greed                11664  5986           1            23   \n",
       "Neutral               6353  2346           0            12   \n",
       "\n",
       "Direction       Spot Dust Conversion  \n",
       "classification                        \n",
       "Extreme Fear                       3  \n",
       "Extreme Greed                     32  \n",
       "Fear                              42  \n",
       "Greed                             55  \n",
       "Neutral                           10  "
      ]
     },
     "execution_count": 90,
     "metadata": {},
     "output_type": "execute_result"
    }
   ],
   "source": [
    "merged_df.groupby(['classification', 'Direction']).size().unstack(fill_value=0)"
   ]
  },
  {
   "cell_type": "markdown",
   "id": "04e79993-44e8-485c-b319-32d8b6e67655",
   "metadata": {},
   "source": [
    "### Insights\n",
    "- Open Long trades dominate during Fear, showing traders attempt to \"buy the dip\" in uncertain markets.\n",
    "- Open Short spikes during Extreme Greed, indicating increased bearish bets as traders anticipate a reversal.\n",
    "- Close Short is high during Greed, suggesting profit booking on prior bearish positions.\n",
    "- Buy trades rise sharply in Extreme Greed, reflecting strong momentum-chasing behavior.\n",
    "- Short > Long switches are more frequent in Greed, hinting at quick sentiment shifts and volatility."
   ]
  },
  {
   "cell_type": "code",
   "execution_count": 91,
   "id": "4605ac57-43bb-4caf-8814-f286f45fe0b6",
   "metadata": {},
   "outputs": [],
   "source": [
    "# Detect Behavioral Shift on Consecutive Days of Sentiment Shift"
   ]
  },
  {
   "cell_type": "code",
   "execution_count": 92,
   "id": "cfad0e4f-24f0-4bd1-821c-60cdb079fcda",
   "metadata": {},
   "outputs": [
    {
     "data": {
      "text/html": [
       "<div>\n",
       "<style scoped>\n",
       "    .dataframe tbody tr th:only-of-type {\n",
       "        vertical-align: middle;\n",
       "    }\n",
       "\n",
       "    .dataframe tbody tr th {\n",
       "        vertical-align: top;\n",
       "    }\n",
       "\n",
       "    .dataframe thead th {\n",
       "        text-align: right;\n",
       "    }\n",
       "</style>\n",
       "<table border=\"1\" class=\"dataframe\">\n",
       "  <thead>\n",
       "    <tr style=\"text-align: right;\">\n",
       "      <th></th>\n",
       "      <th>value_diff</th>\n",
       "      <th>Closed PnL</th>\n",
       "    </tr>\n",
       "  </thead>\n",
       "  <tbody>\n",
       "    <tr>\n",
       "      <th>value_diff</th>\n",
       "      <td>1.000000</td>\n",
       "      <td>0.050878</td>\n",
       "    </tr>\n",
       "    <tr>\n",
       "      <th>Closed PnL</th>\n",
       "      <td>0.050878</td>\n",
       "      <td>1.000000</td>\n",
       "    </tr>\n",
       "  </tbody>\n",
       "</table>\n",
       "</div>"
      ],
      "text/plain": [
       "            value_diff  Closed PnL\n",
       "value_diff    1.000000    0.050878\n",
       "Closed PnL    0.050878    1.000000"
      ]
     },
     "execution_count": 92,
     "metadata": {},
     "output_type": "execute_result"
    }
   ],
   "source": [
    "daily_sentiment = sentiment_df[['date', 'value']].copy()\n",
    "daily_sentiment['value_diff'] = daily_sentiment['value'].diff()\n",
    "\n",
    "# Merging with daily PnL\n",
    "daily_pnl = merged_df.groupby('date')['Closed PnL'].mean().reset_index()\n",
    "merged_shift = pd.merge(daily_sentiment, daily_pnl, on='date', how='inner')\n",
    "\n",
    "merged_shift[['value_diff', 'Closed PnL']].corr()"
   ]
  },
  {
   "cell_type": "markdown",
   "id": "d3e4793b-8dc4-41f3-b190-da8f8d584a57",
   "metadata": {},
   "source": [
    "### Insights\n",
    "- Daily sentiment shifts have almost no linear impact on PnL — traders may not react instantly or uniformly to changing fear/greed.\n",
    "- Low correlation (0.05) suggests performance is more tied to sentiment extremes than to daily fluctuations.\n",
    "- Traders likely rely more on sentiment level thresholds (e.g. \"Extreme Greed\") than incremental changes.\n",
    "- Indicates sentiment change alone is a weak signal for short-term trading outcomes."
   ]
  },
  {
   "cell_type": "code",
   "execution_count": 93,
   "id": "d3df4d9e-5f04-45c3-85bd-d24ce3193740",
   "metadata": {},
   "outputs": [],
   "source": [
    "# Testing for lagged effects to check if changes in sentiment influence PnL the next day (or vice versa)"
   ]
  },
  {
   "cell_type": "code",
   "execution_count": 94,
   "id": "a7029e60-b4cb-4eff-82e9-db6a248099cd",
   "metadata": {},
   "outputs": [
    {
     "data": {
      "text/html": [
       "<div>\n",
       "<style scoped>\n",
       "    .dataframe tbody tr th:only-of-type {\n",
       "        vertical-align: middle;\n",
       "    }\n",
       "\n",
       "    .dataframe tbody tr th {\n",
       "        vertical-align: top;\n",
       "    }\n",
       "\n",
       "    .dataframe thead th {\n",
       "        text-align: right;\n",
       "    }\n",
       "</style>\n",
       "<table border=\"1\" class=\"dataframe\">\n",
       "  <thead>\n",
       "    <tr style=\"text-align: right;\">\n",
       "      <th></th>\n",
       "      <th>value_diff</th>\n",
       "      <th>Next_Day_PnL</th>\n",
       "    </tr>\n",
       "  </thead>\n",
       "  <tbody>\n",
       "    <tr>\n",
       "      <th>value_diff</th>\n",
       "      <td>1.000000</td>\n",
       "      <td>-0.014514</td>\n",
       "    </tr>\n",
       "    <tr>\n",
       "      <th>Next_Day_PnL</th>\n",
       "      <td>-0.014514</td>\n",
       "      <td>1.000000</td>\n",
       "    </tr>\n",
       "  </tbody>\n",
       "</table>\n",
       "</div>"
      ],
      "text/plain": [
       "              value_diff  Next_Day_PnL\n",
       "value_diff      1.000000     -0.014514\n",
       "Next_Day_PnL   -0.014514      1.000000"
      ]
     },
     "execution_count": 94,
     "metadata": {},
     "output_type": "execute_result"
    }
   ],
   "source": [
    "# Shift PnL by -1 to align today's sentiment with tomorrow's PnL\n",
    "merged_shift['Next_Day_PnL'] = merged_shift['Closed PnL'].shift(-1)\n",
    "\n",
    "# Correlation between today's sentiment change and tomorrow's PnL\n",
    "merged_shift[['value_diff', 'Next_Day_PnL']].corr()"
   ]
  },
  {
   "cell_type": "markdown",
   "id": "b2da3c18-c2bd-4378-bc5a-39142fdcb7fd",
   "metadata": {},
   "source": [
    "### Insights\n",
    "- Daily sentiment changes have no meaningful impact on next-day PnL (correlation ≈ -0.01), suggesting traders react immediately to sentiment shifts.\n",
    "- This confirms that sentiment levels, not their day-to-day changes, matter more for performance."
   ]
  },
  {
   "cell_type": "code",
   "execution_count": 95,
   "id": "be9659a5-637f-4370-a032-bb423dae9e6e",
   "metadata": {},
   "outputs": [],
   "source": [
    "# Strategy Simulation – Buy on Fear, Sell on Greed (Contrarian)"
   ]
  },
  {
   "cell_type": "code",
   "execution_count": 111,
   "id": "3e5ad047-4df8-4c07-aeed-84fe0fdfc0ef",
   "metadata": {},
   "outputs": [
    {
     "data": {
      "image/png": "[encoded data removed]",
      "text/plain": [
       "<Figure size 640x480 with 1 Axes>"
      ]
     },
     "metadata": {},
     "output_type": "display_data"
    }
   ],
   "source": [
    "# Defining contrarian buy/sell signals\n",
    "extreme_days = sentiment_df[['date', 'value']].copy()\n",
    "extreme_days['signal'] = np.where(extreme_days['value'] <= 20, 'BUY', \n",
    "                           np.where(extreme_days['value'] >= 80, 'SELL', 'HOLD'))\n",
    "\n",
    "# Shifting by 1 to simulate \"next-day trading\"\n",
    "extreme_days['next_day'] = extreme_days['date'].shift(-1)\n",
    "\n",
    "# Merging with next-day returns\n",
    "next_day_pnl = merged_df.groupby('date')['Closed PnL'].mean().reset_index()\n",
    "extreme_days = extreme_days.merge(next_day_pnl, left_on='next_day', right_on='date', how='left')\n",
    "\n",
    "extreme_days.groupby('signal')['Closed PnL'].mean().plot(kind = 'bar')\n",
    "plt.ylabel(\"Closed PnL\")\n",
    "plt.title(\"Average Next-Day PnL by Sentiment-Based Trading Signal\")\n",
    "plt.show()"
   ]
  },
  {
   "cell_type": "markdown",
   "id": "adcd02e7-e6e0-4bd6-9fa4-a5c2b1e98e37",
   "metadata": {},
   "source": [
    "### Insights\n",
    "- Traders who buy in extreme fear (Fear ≤ 20) see the highest next-day profits, supporting contrarian strategies.\n",
    "- Selling in extreme greed also performs decently, while neutral sentiment yields the weakest returns."
   ]
  },
  {
   "cell_type": "code",
   "execution_count": 97,
   "id": "252295cf-d7b8-45c2-b937-25e4e1cbb9e3",
   "metadata": {},
   "outputs": [],
   "source": [
    "# Finding if PnL Differ by Sentiment by ANOVA?"
   ]
  },
  {
   "cell_type": "code",
   "execution_count": 98,
   "id": "647acd7c-6e93-4dd4-9e35-c9a846300812",
   "metadata": {},
   "outputs": [
    {
     "name": "stdout",
     "output_type": "stream",
     "text": [
      "F-statistic: 9.06, p-value: 0.0000\n"
     ]
    }
   ],
   "source": [
    "from scipy.stats import f_oneway\n",
    "\n",
    "groups = [group['Closed PnL'].values for name, group in merged_df.groupby('classification')]\n",
    "f_stat, p_val = f_oneway(*groups)\n",
    "print(f\"F-statistic: {f_stat:.2f}, p-value: {p_val:.4f}\")"
   ]
  },
  {
   "cell_type": "markdown",
   "id": "50e57876-0cba-4994-943a-bb0378925c9d",
   "metadata": {},
   "source": [
    "### Insights\n",
    "- The p-value is well below 0.05, confirming that average PnL differs significantly across sentiment categories.\n",
    "- This statistically validates that emotions like fear and greed impact trader outcomes."
   ]
  },
  {
   "cell_type": "code",
   "execution_count": 99,
   "id": "b05aa451-3f87-4e92-a07b-d386ac8788d1",
   "metadata": {},
   "outputs": [],
   "source": [
    "# Checking if traders crowd into specific coins during “Extreme Fear.”"
   ]
  },
  {
   "cell_type": "code",
   "execution_count": 114,
   "id": "6f4c83f8-1432-4a08-aa6f-948bc5e9c7ca",
   "metadata": {},
   "outputs": [
    {
     "name": "stderr",
     "output_type": "stream",
     "text": [
      "C:\\Users\\Administrator\\AppData\\Local\\Temp\\ipykernel_36852\\3384970872.py:13: FutureWarning:\n",
      "\n",
      "\n",
      "\n",
      "Passing `palette` without assigning `hue` is deprecated and will be removed in v0.14.0. Assign the `x` variable to `hue` and set `legend=False` for the same effect.\n",
      "\n",
      "\n"
     ]
    },
    {
     "data": {
      "image/png": "[encoded data removed]",
      "text/plain": [
       "<Figure size 1200x600 with 1 Axes>"
      ]
     },
     "metadata": {},
     "output_type": "display_data"
    }
   ],
   "source": [
    "# Get the top 10 coins by 'Size USD' under 'Extreme Fear' classification\n",
    "top_10 = merged_df[merged_df['classification'] == 'Extreme Fear'] \\\n",
    "            .groupby('Coin')['Size USD'] \\\n",
    "            .sum() \\\n",
    "            .sort_values(ascending=False) \\\n",
    "            .head(10)\n",
    "\n",
    "# Reset index for plotting\n",
    "top_10_df = top_10.reset_index()\n",
    "\n",
    "# Plot using Seaborn\n",
    "plt.figure(figsize=(12, 6))\n",
    "sns.barplot(data=top_10_df, x='Coin', y='Size USD', palette='viridis')\n",
    "\n",
    "plt.title('Top 10 Coins by Size USD during Extreme Fear')\n",
    "plt.xlabel('Coin')\n",
    "plt.ylabel('Total Size USD')\n",
    "plt.xticks(rotation=45)\n",
    "plt.tight_layout()\n",
    "plt.show()"
   ]
  },
  {
   "cell_type": "markdown",
   "id": "37a3af03-ddbf-49ff-8093-411ae064fbbc",
   "metadata": {},
   "source": [
    "### Insights\n",
    "- During Extreme Fear, traders poured the most capital into BTC, HYPE, and SOL — signaling strong belief in these assets even when the market panicked.\n",
    "- Funny and risky coins like FARTCOIN and TRUMP still got big investments — nearly $1 million each — even when the market was scared.\n",
    "-  Traders don’t run away during fear — they just shift their money into coins they feel strongly about."
   ]
  },
  {
   "cell_type": "code",
   "execution_count": 101,
   "id": "82bdae87-9d6e-430d-b7ea-43a622fc4f47",
   "metadata": {},
   "outputs": [],
   "source": [
    "# Checking account size influences performance by sentiment"
   ]
  },
  {
   "cell_type": "code",
   "execution_count": 102,
   "id": "8a3bb788-0cd1-41ff-aea4-a3705f8d9d64",
   "metadata": {},
   "outputs": [
    {
     "name": "stderr",
     "output_type": "stream",
     "text": [
      "C:\\Users\\Administrator\\AppData\\Local\\Temp\\ipykernel_36852\\1273266317.py:3: FutureWarning:\n",
      "\n",
      "The default of observed=False is deprecated and will be changed to True in a future version of pandas. Pass observed=False to retain current behavior or observed=True to adopt the future default and silence this warning.\n",
      "\n"
     ]
    },
    {
     "data": {
      "text/html": [
       "<div>\n",
       "<style scoped>\n",
       "    .dataframe tbody tr th:only-of-type {\n",
       "        vertical-align: middle;\n",
       "    }\n",
       "\n",
       "    .dataframe tbody tr th {\n",
       "        vertical-align: top;\n",
       "    }\n",
       "\n",
       "    .dataframe thead th {\n",
       "        text-align: right;\n",
       "    }\n",
       "</style>\n",
       "<table border=\"1\" class=\"dataframe\">\n",
       "  <thead>\n",
       "    <tr style=\"text-align: right;\">\n",
       "      <th>classification</th>\n",
       "      <th>Extreme Fear</th>\n",
       "      <th>Extreme Greed</th>\n",
       "      <th>Fear</th>\n",
       "      <th>Greed</th>\n",
       "      <th>Neutral</th>\n",
       "    </tr>\n",
       "    <tr>\n",
       "      <th>acct_bin</th>\n",
       "      <th></th>\n",
       "      <th></th>\n",
       "      <th></th>\n",
       "      <th></th>\n",
       "      <th></th>\n",
       "    </tr>\n",
       "  </thead>\n",
       "  <tbody>\n",
       "    <tr>\n",
       "      <th>Small</th>\n",
       "      <td>15.318625</td>\n",
       "      <td>33.885413</td>\n",
       "      <td>29.695774</td>\n",
       "      <td>27.752566</td>\n",
       "      <td>18.755192</td>\n",
       "    </tr>\n",
       "    <tr>\n",
       "      <th>Mid</th>\n",
       "      <td>82.385746</td>\n",
       "      <td>188.971418</td>\n",
       "      <td>104.611287</td>\n",
       "      <td>84.002408</td>\n",
       "      <td>50.439233</td>\n",
       "    </tr>\n",
       "    <tr>\n",
       "      <th>Large</th>\n",
       "      <td>0.105386</td>\n",
       "      <td>64.739050</td>\n",
       "      <td>19.826461</td>\n",
       "      <td>37.806296</td>\n",
       "      <td>37.383026</td>\n",
       "    </tr>\n",
       "  </tbody>\n",
       "</table>\n",
       "</div>"
      ],
      "text/plain": [
       "classification  Extreme Fear  Extreme Greed        Fear      Greed    Neutral\n",
       "acct_bin                                                                     \n",
       "Small              15.318625      33.885413   29.695774  27.752566  18.755192\n",
       "Mid                82.385746     188.971418  104.611287  84.002408  50.439233\n",
       "Large               0.105386      64.739050   19.826461  37.806296  37.383026"
      ]
     },
     "execution_count": 102,
     "metadata": {},
     "output_type": "execute_result"
    }
   ],
   "source": [
    "merged_df['acct_size'] = merged_df.groupby('Account')['Size USD'].transform('sum')\n",
    "merged_df['acct_bin'] = pd.qcut(merged_df['acct_size'], q=3, labels=['Small','Mid','Large'])\n",
    "res = merged_df.groupby(['acct_bin','classification'])['Closed PnL'].mean().unstack()\n",
    "res"
   ]
  },
  {
   "cell_type": "markdown",
   "id": "32921bef-9268-4daa-8f60-63e115e9c4c4",
   "metadata": {},
   "source": [
    "### Insights\n",
    "- Mid-sized traders made the highest profits across all sentiment levels, especially during Extreme Greed, where they far outperformed small and large traders.\n",
    "- Large traders barely made any profit during Extreme Fear — possibly avoiding trades or being overly cautious.\n",
    "- Small traders struggled during Greed, showing they may get caught in the hype and make poor timing decisions."
   ]
  },
  {
   "cell_type": "code",
   "execution_count": 103,
   "id": "50ddf8b8-fdf9-4cf7-a3a0-89c89edb7047",
   "metadata": {},
   "outputs": [],
   "source": [
    "# how traders perform the day after market sentiment drops into Extreme Fear"
   ]
  },
  {
   "cell_type": "code",
   "execution_count": 104,
   "id": "9bc8b44f-df64-4a9d-8988-91b547bca368",
   "metadata": {},
   "outputs": [
    {
     "data": {
      "text/plain": [
       "6.694658976473036"
      ]
     },
     "execution_count": 104,
     "metadata": {},
     "output_type": "execute_result"
    }
   ],
   "source": [
    "sf = daily_sentiment.copy()\n",
    "sf['prev_val'] = sf['value'].shift(1)\n",
    "sf['deterioration'] = (sf['prev_val']>20) & (sf['value']<=20)\n",
    "sp = sf[sf['deterioration']].merge(next_day_pnl, on='date', how='left')\n",
    "sp['Closed PnL'].mean()"
   ]
  },
  {
   "cell_type": "markdown",
   "id": "d99ff10b-e0e5-439c-989b-9e124ee6dded",
   "metadata": {},
   "source": [
    "### Insights\n",
    "- When sentiment drops into Extreme Fear, the next day’s profits are still positive (~6.7), suggesting panic dips create buying opportunities.\n",
    "- Traders who act just after fear spikes can still make gains — fear-driven drops may be overreactions."
   ]
  },
  {
   "cell_type": "code",
   "execution_count": null,
   "id": "28b3f9af-ab95-4bf7-ac5e-6f57a21e3ced",
   "metadata": {},
   "outputs": [],
   "source": []
  }
 ],
 "metadata": {
  "kernelspec": {
   "display_name": "Python 3 (ipykernel)",
   "language": "python",
   "name": "python3"
  },
  "language_info": {
   "codemirror_mode": {
    "name": "ipython",
    "version": 3
   },
   "file_extension": ".py",
   "mimetype": "text/x-python",
   "name": "python",
   "nbconvert_exporter": "python",
   "pygments_lexer": "ipython3",
   "version": "3.12.7"
  }
 },
 "nbformat": 4,
 "nbformat_minor": 5
}
